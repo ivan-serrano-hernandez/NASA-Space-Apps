{
 "cells": [
  {
   "cell_type": "code",
   "execution_count": 7,
   "id": "e1839ea5",
   "metadata": {},
   "outputs": [],
   "source": [
    "import pandas as pd\n",
    "import tensorflow as tf"
   ]
  },
  {
   "cell_type": "code",
   "execution_count": 10,
   "id": "0cac48a9",
   "metadata": {},
   "outputs": [],
   "source": [
    "df = pd.read_pickle('./data/final_df')\n",
    "dates_df = pd.read_pickle('./data/dates_df')\n",
    "\n",
    "loaded_model = tf.keras.models.load_model(\"./chekpoint_models/realtime/\")"
   ]
  },
  {
   "cell_type": "code",
   "execution_count": 12,
   "id": "78fb0ec9",
   "metadata": {},
   "outputs": [
    {
     "name": "stdout",
     "output_type": "stream",
     "text": [
      "537/537 [==============================] - 1s 2ms/step\n"
     ]
    }
   ],
   "source": [
    "df['kp_prediction'] = loaded_model.predict(df.drop(['Kp','ap'],axis=1))"
   ]
  },
  {
   "cell_type": "code",
   "execution_count": 27,
   "id": "23dcbf3f",
   "metadata": {},
   "outputs": [],
   "source": [
    "app_df = df.join(dates_df[['YYYY','DD','MM','h']])"
   ]
  },
  {
   "cell_type": "code",
   "execution_count": 28,
   "id": "28fd94d3",
   "metadata": {},
   "outputs": [],
   "source": [
    "app_df.to_pickle('./data/app_df')"
   ]
  },
  {
   "cell_type": "code",
   "execution_count": null,
   "id": "2e3eb330",
   "metadata": {},
   "outputs": [],
   "source": []
  }
 ],
 "metadata": {
  "kernelspec": {
   "display_name": "Python 3 (ipykernel)",
   "language": "python",
   "name": "python3"
  },
  "language_info": {
   "codemirror_mode": {
    "name": "ipython",
    "version": 3
   },
   "file_extension": ".py",
   "mimetype": "text/x-python",
   "name": "python",
   "nbconvert_exporter": "python",
   "pygments_lexer": "ipython3",
   "version": "3.10.13"
  }
 },
 "nbformat": 4,
 "nbformat_minor": 5
}
