{
 "cells": [
  {
   "cell_type": "code",
   "execution_count": 7,
   "id": "90f5af7e",
   "metadata": {},
   "outputs": [],
   "source": [
    "import pandas as pd\n",
    "import tensorflow as tf"
   ]
  },
  {
   "cell_type": "code",
   "execution_count": 10,
   "id": "89dd852c",
   "metadata": {},
   "outputs": [],
   "source": [
    "df = pd.read_pickle('./data/final_df')\n",
    "dates_df = pd.read_pickle('./data/dates_df')\n",
    "\n",
    "loaded_model = tf.keras.models.load_model(\"./chekpoint_models/realtime/\")"
   ]
  },
  {
   "cell_type": "code",
   "execution_count": 12,
   "id": "fc3777ba",
   "metadata": {},
   "outputs": [
    {
     "name": "stdout",
     "output_type": "stream",
     "text": [
      "537/537 [==============================] - 1s 2ms/step\n"
     ]
    }
   ],
   "source": [
    "df['kp_prediction'] = loaded_model.predict(df.drop(['Kp','ap'],axis=1))"
   ]
  },
  {
   "cell_type": "code",
   "execution_count": 31,
   "id": "58989327",
   "metadata": {},
   "outputs": [],
   "source": [
    "app_df = df.join(dates_df[['YYYY','DD','MM','h','date']])"
   ]
  },
  {
   "cell_type": "code",
   "execution_count": 32,
   "id": "1a9463be",
   "metadata": {},
   "outputs": [],
   "source": [
    "app_df.to_pickle('./data/app_df')"
   ]
  }
 ],
 "metadata": {
  "kernelspec": {
   "display_name": "Python 3 (ipykernel)",
   "language": "python",
   "name": "python3"
  },
  "language_info": {
   "codemirror_mode": {
    "name": "ipython",
    "version": 3
   },
   "file_extension": ".py",
   "mimetype": "text/x-python",
   "name": "python",
   "nbconvert_exporter": "python",
   "pygments_lexer": "ipython3",
   "version": "3.10.13"
  }
 },
 "nbformat": 4,
 "nbformat_minor": 5
}
