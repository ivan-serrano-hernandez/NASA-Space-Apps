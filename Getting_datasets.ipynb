{
 "cells": [
  {
   "cell_type": "code",
   "execution_count": 1,
   "id": "98f564be",
   "metadata": {},
   "outputs": [],
   "source": [
    "import pandas as pd\n",
    "import numpy as np\n",
    "import matplotlib.pyplot as plt\n",
    "import seaborn as sns\n",
    "import os"
   ]
  },
  {
   "cell_type": "code",
   "execution_count": 14,
   "id": "9f712b33",
   "metadata": {
    "scrolled": true
   },
   "outputs": [
    {
     "name": "stderr",
     "output_type": "stream",
     "text": [
      "C:\\Users\\lluis\\AppData\\Local\\Temp\\ipykernel_16716\\3612688435.py:5: FutureWarning: The argument 'infer_datetime_format' is deprecated and will be removed in a future version. A strict version of it is now the default, see https://pandas.pydata.org/pdeps/0004-consistent-to-datetime-parsing.html. You can safely remove this argument.\n",
      "  df = pd.read_csv(path, delimiter = ',', parse_dates=[0], infer_datetime_format=True, na_values='0', header = None)\n"
     ]
    },
    {
     "name": "stdout",
     "output_type": "stream",
     "text": [
      "data\\dsc_fc_summed_spectra_2016_v01\\dsc_fc_summed_spectra_2016_v01.csv\n"
     ]
    },
    {
     "name": "stderr",
     "output_type": "stream",
     "text": [
      "C:\\Users\\lluis\\AppData\\Local\\Temp\\ipykernel_16716\\3612688435.py:5: FutureWarning: The argument 'infer_datetime_format' is deprecated and will be removed in a future version. A strict version of it is now the default, see https://pandas.pydata.org/pdeps/0004-consistent-to-datetime-parsing.html. You can safely remove this argument.\n",
      "  df = pd.read_csv(path, delimiter = ',', parse_dates=[0], infer_datetime_format=True, na_values='0', header = None)\n"
     ]
    },
    {
     "name": "stdout",
     "output_type": "stream",
     "text": [
      "data\\dsc_fc_summed_spectra_2017_v01\\dsc_fc_summed_spectra_2017_v01.csv\n"
     ]
    },
    {
     "name": "stderr",
     "output_type": "stream",
     "text": [
      "C:\\Users\\lluis\\AppData\\Local\\Temp\\ipykernel_16716\\3612688435.py:5: FutureWarning: The argument 'infer_datetime_format' is deprecated and will be removed in a future version. A strict version of it is now the default, see https://pandas.pydata.org/pdeps/0004-consistent-to-datetime-parsing.html. You can safely remove this argument.\n",
      "  df = pd.read_csv(path, delimiter = ',', parse_dates=[0], infer_datetime_format=True, na_values='0', header = None)\n"
     ]
    },
    {
     "name": "stdout",
     "output_type": "stream",
     "text": [
      "data\\dsc_fc_summed_spectra_2018_v01\\dsc_fc_summed_spectra_2018_v01.csv\n"
     ]
    },
    {
     "name": "stderr",
     "output_type": "stream",
     "text": [
      "C:\\Users\\lluis\\AppData\\Local\\Temp\\ipykernel_16716\\3612688435.py:5: FutureWarning: The argument 'infer_datetime_format' is deprecated and will be removed in a future version. A strict version of it is now the default, see https://pandas.pydata.org/pdeps/0004-consistent-to-datetime-parsing.html. You can safely remove this argument.\n",
      "  df = pd.read_csv(path, delimiter = ',', parse_dates=[0], infer_datetime_format=True, na_values='0', header = None)\n"
     ]
    },
    {
     "name": "stdout",
     "output_type": "stream",
     "text": [
      "data\\dsc_fc_summed_spectra_2019_v01\\dsc_fc_summed_spectra_2019_v01.csv\n"
     ]
    },
    {
     "name": "stderr",
     "output_type": "stream",
     "text": [
      "C:\\Users\\lluis\\AppData\\Local\\Temp\\ipykernel_16716\\3612688435.py:5: FutureWarning: The argument 'infer_datetime_format' is deprecated and will be removed in a future version. A strict version of it is now the default, see https://pandas.pydata.org/pdeps/0004-consistent-to-datetime-parsing.html. You can safely remove this argument.\n",
      "  df = pd.read_csv(path, delimiter = ',', parse_dates=[0], infer_datetime_format=True, na_values='0', header = None)\n"
     ]
    },
    {
     "name": "stdout",
     "output_type": "stream",
     "text": [
      "data\\dsc_fc_summed_spectra_2020_v01\\dsc_fc_summed_spectra_2020_v01.csv\n"
     ]
    },
    {
     "name": "stderr",
     "output_type": "stream",
     "text": [
      "C:\\Users\\lluis\\AppData\\Local\\Temp\\ipykernel_16716\\3612688435.py:5: FutureWarning: The argument 'infer_datetime_format' is deprecated and will be removed in a future version. A strict version of it is now the default, see https://pandas.pydata.org/pdeps/0004-consistent-to-datetime-parsing.html. You can safely remove this argument.\n",
      "  df = pd.read_csv(path, delimiter = ',', parse_dates=[0], infer_datetime_format=True, na_values='0', header = None)\n"
     ]
    },
    {
     "name": "stdout",
     "output_type": "stream",
     "text": [
      "data\\dsc_fc_summed_spectra_2021_v01\\dsc_fc_summed_spectra_2021_v01.csv\n"
     ]
    },
    {
     "name": "stderr",
     "output_type": "stream",
     "text": [
      "C:\\Users\\lluis\\AppData\\Local\\Temp\\ipykernel_16716\\3612688435.py:5: FutureWarning: The argument 'infer_datetime_format' is deprecated and will be removed in a future version. A strict version of it is now the default, see https://pandas.pydata.org/pdeps/0004-consistent-to-datetime-parsing.html. You can safely remove this argument.\n",
      "  df = pd.read_csv(path, delimiter = ',', parse_dates=[0], infer_datetime_format=True, na_values='0', header = None)\n"
     ]
    },
    {
     "name": "stdout",
     "output_type": "stream",
     "text": [
      "data\\dsc_fc_summed_spectra_2022_v01\\dsc_fc_summed_spectra_2022_v01.csv\n"
     ]
    },
    {
     "ename": "KeyError",
     "evalue": "'df_2023'",
     "output_type": "error",
     "traceback": [
      "\u001b[1;31m---------------------------------------------------------------------------\u001b[0m",
      "\u001b[1;31mKeyError\u001b[0m                                  Traceback (most recent call last)",
      "Cell \u001b[1;32mIn[14], line 8\u001b[0m\n\u001b[0;32m      6\u001b[0m      \u001b[38;5;28mprint\u001b[39m(path)\n\u001b[0;32m      7\u001b[0m      data_frames[\u001b[38;5;124m'\u001b[39m\u001b[38;5;124mdf_\u001b[39m\u001b[38;5;124m'\u001b[39m\u001b[38;5;241m+\u001b[39myear] \u001b[38;5;241m=\u001b[39m df\n\u001b[1;32m----> 8\u001b[0m df16, df17,df18,df19,df20,df21,df22,df23 \u001b[38;5;241m=\u001b[39m data_frames[\u001b[38;5;124m'\u001b[39m\u001b[38;5;124mdf_2016\u001b[39m\u001b[38;5;124m'\u001b[39m], data_frames[\u001b[38;5;124m'\u001b[39m\u001b[38;5;124mdf_2017\u001b[39m\u001b[38;5;124m'\u001b[39m], data_frames[\u001b[38;5;124m'\u001b[39m\u001b[38;5;124mdf_2018\u001b[39m\u001b[38;5;124m'\u001b[39m], data_frames[\u001b[38;5;124m'\u001b[39m\u001b[38;5;124mdf_2019\u001b[39m\u001b[38;5;124m'\u001b[39m], data_frames[\u001b[38;5;124m'\u001b[39m\u001b[38;5;124mdf_2020\u001b[39m\u001b[38;5;124m'\u001b[39m], data_frames[\u001b[38;5;124m'\u001b[39m\u001b[38;5;124mdf_2021\u001b[39m\u001b[38;5;124m'\u001b[39m], data_frames[\u001b[38;5;124m'\u001b[39m\u001b[38;5;124mdf_2022\u001b[39m\u001b[38;5;124m'\u001b[39m],\u001b[43mdata_frames\u001b[49m\u001b[43m[\u001b[49m\u001b[38;5;124;43m'\u001b[39;49m\u001b[38;5;124;43mdf_2023\u001b[39;49m\u001b[38;5;124;43m'\u001b[39;49m\u001b[43m]\u001b[49m\n",
      "\u001b[1;31mKeyError\u001b[0m: 'df_2023'"
     ]
    }
   ],
   "source": [
    "data_frames = {}\n",
    "for file in os.listdir('./data/'):\n",
    "     year = str(file).split('_')[-2]\n",
    "     path = os.path.join('data',file,file+'.csv')\n",
    "     df = pd.read_csv(path, delimiter = ',', parse_dates=[0], infer_datetime_format=True, na_values='0', header = None)\n",
    "     print(path)\n",
    "     data_frames['df_'+year] = df\n",
    "df16, df17,df18,df19,df20,df21,df22,df23 = data_frames['df_2016'], data_frames['df_2017'], data_frames['df_2018'], data_frames['df_2019'], data_frames['df_2020'], data_frames['df_2021'], data_frames['df_2022'],data_frames['df_2023']\n"
   ]
  },
  {
   "cell_type": "code",
   "execution_count": null,
   "id": "a72f6a52",
   "metadata": {},
   "outputs": [],
   "source": []
  }
 ],
 "metadata": {
  "kernelspec": {
   "display_name": "Python 3 (ipykernel)",
   "language": "python",
   "name": "python3"
  },
  "language_info": {
   "codemirror_mode": {
    "name": "ipython",
    "version": 3
   },
   "file_extension": ".py",
   "mimetype": "text/x-python",
   "name": "python",
   "nbconvert_exporter": "python",
   "pygments_lexer": "ipython3",
   "version": "3.10.13"
  }
 },
 "nbformat": 4,
 "nbformat_minor": 5
}
