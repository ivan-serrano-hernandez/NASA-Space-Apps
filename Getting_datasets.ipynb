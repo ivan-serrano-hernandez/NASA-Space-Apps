{
 "cells": [
  {
   "cell_type": "code",
   "execution_count": 30,
   "id": "98f564be",
   "metadata": {},
   "outputs": [],
   "source": [
    "import pandas as pd\n",
    "import numpy as np\n",
    "import matplotlib.pyplot as plt\n",
    "import seaborn as sns\n",
    "import os\n",
    "\n",
    "import tensorflow as tf\n",
    "from tensorflow import keras\n",
    "from tensorflow.keras import layers\n",
    "from sklearn.model_selection import train_test_split\n",
    "from sklearn.metrics import mean_absolute_error, mean_squared_error\n",
    "# from sklearn.impute import KNNImputer"
   ]
  },
  {
   "cell_type": "markdown",
   "id": "9b090c85",
   "metadata": {},
   "source": [
    "### Reading main datasets "
   ]
  },
  {
   "cell_type": "code",
   "execution_count": 2,
   "id": "9f712b33",
   "metadata": {
    "scrolled": true
   },
   "outputs": [
    {
     "name": "stderr",
     "output_type": "stream",
     "text": [
      "C:\\Users\\lluis\\AppData\\Local\\Temp\\ipykernel_18404\\3232558894.py:5: FutureWarning: The argument 'infer_datetime_format' is deprecated and will be removed in a future version. A strict version of it is now the default, see https://pandas.pydata.org/pdeps/0004-consistent-to-datetime-parsing.html. You can safely remove this argument.\n",
      "  df = pd.read_csv(path, delimiter = ',', parse_dates=[0], infer_datetime_format=True, na_values='0', header = None)\n"
     ]
    },
    {
     "name": "stdout",
     "output_type": "stream",
     "text": [
      "data\\dsc_fc_summed_spectra_2016_v01\\dsc_fc_summed_spectra_2016_v01.csv\n"
     ]
    },
    {
     "name": "stderr",
     "output_type": "stream",
     "text": [
      "C:\\Users\\lluis\\AppData\\Local\\Temp\\ipykernel_18404\\3232558894.py:5: FutureWarning: The argument 'infer_datetime_format' is deprecated and will be removed in a future version. A strict version of it is now the default, see https://pandas.pydata.org/pdeps/0004-consistent-to-datetime-parsing.html. You can safely remove this argument.\n",
      "  df = pd.read_csv(path, delimiter = ',', parse_dates=[0], infer_datetime_format=True, na_values='0', header = None)\n"
     ]
    },
    {
     "name": "stdout",
     "output_type": "stream",
     "text": [
      "data\\dsc_fc_summed_spectra_2017_v01\\dsc_fc_summed_spectra_2017_v01.csv\n"
     ]
    },
    {
     "name": "stderr",
     "output_type": "stream",
     "text": [
      "C:\\Users\\lluis\\AppData\\Local\\Temp\\ipykernel_18404\\3232558894.py:5: FutureWarning: The argument 'infer_datetime_format' is deprecated and will be removed in a future version. A strict version of it is now the default, see https://pandas.pydata.org/pdeps/0004-consistent-to-datetime-parsing.html. You can safely remove this argument.\n",
      "  df = pd.read_csv(path, delimiter = ',', parse_dates=[0], infer_datetime_format=True, na_values='0', header = None)\n"
     ]
    },
    {
     "name": "stdout",
     "output_type": "stream",
     "text": [
      "data\\dsc_fc_summed_spectra_2018_v01\\dsc_fc_summed_spectra_2018_v01.csv\n"
     ]
    },
    {
     "name": "stderr",
     "output_type": "stream",
     "text": [
      "C:\\Users\\lluis\\AppData\\Local\\Temp\\ipykernel_18404\\3232558894.py:5: FutureWarning: The argument 'infer_datetime_format' is deprecated and will be removed in a future version. A strict version of it is now the default, see https://pandas.pydata.org/pdeps/0004-consistent-to-datetime-parsing.html. You can safely remove this argument.\n",
      "  df = pd.read_csv(path, delimiter = ',', parse_dates=[0], infer_datetime_format=True, na_values='0', header = None)\n"
     ]
    },
    {
     "name": "stdout",
     "output_type": "stream",
     "text": [
      "data\\dsc_fc_summed_spectra_2019_v01\\dsc_fc_summed_spectra_2019_v01.csv\n"
     ]
    },
    {
     "name": "stderr",
     "output_type": "stream",
     "text": [
      "C:\\Users\\lluis\\AppData\\Local\\Temp\\ipykernel_18404\\3232558894.py:5: FutureWarning: The argument 'infer_datetime_format' is deprecated and will be removed in a future version. A strict version of it is now the default, see https://pandas.pydata.org/pdeps/0004-consistent-to-datetime-parsing.html. You can safely remove this argument.\n",
      "  df = pd.read_csv(path, delimiter = ',', parse_dates=[0], infer_datetime_format=True, na_values='0', header = None)\n"
     ]
    },
    {
     "name": "stdout",
     "output_type": "stream",
     "text": [
      "data\\dsc_fc_summed_spectra_2020_v01\\dsc_fc_summed_spectra_2020_v01.csv\n"
     ]
    },
    {
     "name": "stderr",
     "output_type": "stream",
     "text": [
      "C:\\Users\\lluis\\AppData\\Local\\Temp\\ipykernel_18404\\3232558894.py:5: FutureWarning: The argument 'infer_datetime_format' is deprecated and will be removed in a future version. A strict version of it is now the default, see https://pandas.pydata.org/pdeps/0004-consistent-to-datetime-parsing.html. You can safely remove this argument.\n",
      "  df = pd.read_csv(path, delimiter = ',', parse_dates=[0], infer_datetime_format=True, na_values='0', header = None)\n"
     ]
    },
    {
     "name": "stdout",
     "output_type": "stream",
     "text": [
      "data\\dsc_fc_summed_spectra_2021_v01\\dsc_fc_summed_spectra_2021_v01.csv\n"
     ]
    },
    {
     "name": "stderr",
     "output_type": "stream",
     "text": [
      "C:\\Users\\lluis\\AppData\\Local\\Temp\\ipykernel_18404\\3232558894.py:5: FutureWarning: The argument 'infer_datetime_format' is deprecated and will be removed in a future version. A strict version of it is now the default, see https://pandas.pydata.org/pdeps/0004-consistent-to-datetime-parsing.html. You can safely remove this argument.\n",
      "  df = pd.read_csv(path, delimiter = ',', parse_dates=[0], infer_datetime_format=True, na_values='0', header = None)\n"
     ]
    },
    {
     "name": "stdout",
     "output_type": "stream",
     "text": [
      "data\\dsc_fc_summed_spectra_2022_v01\\dsc_fc_summed_spectra_2022_v01.csv\n"
     ]
    }
   ],
   "source": [
    "data_frames = {}\n",
    "for file in os.listdir('./data/'):\n",
    "     year = str(file).split('_')[-2]\n",
    "     path = os.path.join('data',file,file+'.csv')\n",
    "     df = pd.read_csv(path, delimiter = ',', parse_dates=[0], infer_datetime_format=True, na_values='0', header = None)\n",
    "     print(path)\n",
    "     data_frames['df_'+year] = df"
   ]
  },
  {
   "cell_type": "code",
   "execution_count": 3,
   "id": "1af73ad1",
   "metadata": {},
   "outputs": [],
   "source": [
    "df16, df17,df18,df19,df20,df21,df22,df23 = data_frames['df_2016'], data_frames['df_2017'], data_frames['df_2018'], data_frames['df_2019'], data_frames['df_2020'], data_frames['df_2021'], data_frames['df_2022'],data_frames['df_2023']\n",
    "df_final = pd.concat([df16,df17,df18,df19,df20,df21,df22])"
   ]
  },
  {
   "cell_type": "code",
   "execution_count": 4,
   "id": "dc7607ce",
   "metadata": {},
   "outputs": [],
   "source": [
    "df_final.rename({0:'date',1:'x',2:'y',3:'z'},inplace = True,axis =1)"
   ]
  },
  {
   "cell_type": "markdown",
   "id": "206db810",
   "metadata": {},
   "source": [
    "### Reading indexs dataframe "
   ]
  },
  {
   "cell_type": "code",
   "execution_count": 5,
   "id": "f319f3ac",
   "metadata": {},
   "outputs": [
    {
     "name": "stderr",
     "output_type": "stream",
     "text": [
      "C:\\Users\\lluis\\AppData\\Local\\Temp\\ipykernel_18404\\2585190920.py:3: SettingWithCopyWarning: \n",
      "A value is trying to be set on a copy of a slice from a DataFrame\n",
      "\n",
      "See the caveats in the documentation: https://pandas.pydata.org/pandas-docs/stable/user_guide/indexing.html#returning-a-view-versus-a-copy\n",
      "  ind_filter.rename({'hh.h':'h'},axis=1,inplace = True)\n"
     ]
    },
    {
     "data": {
      "text/html": [
       "<div>\n",
       "<style scoped>\n",
       "    .dataframe tbody tr th:only-of-type {\n",
       "        vertical-align: middle;\n",
       "    }\n",
       "\n",
       "    .dataframe tbody tr th {\n",
       "        vertical-align: top;\n",
       "    }\n",
       "\n",
       "    .dataframe thead th {\n",
       "        text-align: right;\n",
       "    }\n",
       "</style>\n",
       "<table border=\"1\" class=\"dataframe\">\n",
       "  <thead>\n",
       "    <tr style=\"text-align: right;\">\n",
       "      <th></th>\n",
       "      <th>YYYY</th>\n",
       "      <th>MM</th>\n",
       "      <th>DD</th>\n",
       "      <th>h</th>\n",
       "      <th>hh._m</th>\n",
       "      <th>days</th>\n",
       "      <th>days_m</th>\n",
       "      <th>Kp</th>\n",
       "      <th>ap</th>\n",
       "      <th>D</th>\n",
       "    </tr>\n",
       "  </thead>\n",
       "  <tbody>\n",
       "    <tr>\n",
       "      <th>245448</th>\n",
       "      <td>2016</td>\n",
       "      <td>1</td>\n",
       "      <td>1</td>\n",
       "      <td>0.0</td>\n",
       "      <td>1.5</td>\n",
       "      <td>30681.000</td>\n",
       "      <td>30681.0625</td>\n",
       "      <td>6.000</td>\n",
       "      <td>80</td>\n",
       "      <td>1</td>\n",
       "    </tr>\n",
       "    <tr>\n",
       "      <th>245449</th>\n",
       "      <td>2016</td>\n",
       "      <td>1</td>\n",
       "      <td>1</td>\n",
       "      <td>3.0</td>\n",
       "      <td>4.5</td>\n",
       "      <td>30681.125</td>\n",
       "      <td>30681.1875</td>\n",
       "      <td>5.333</td>\n",
       "      <td>56</td>\n",
       "      <td>1</td>\n",
       "    </tr>\n",
       "    <tr>\n",
       "      <th>245450</th>\n",
       "      <td>2016</td>\n",
       "      <td>1</td>\n",
       "      <td>1</td>\n",
       "      <td>6.0</td>\n",
       "      <td>7.5</td>\n",
       "      <td>30681.250</td>\n",
       "      <td>30681.3125</td>\n",
       "      <td>5.000</td>\n",
       "      <td>48</td>\n",
       "      <td>1</td>\n",
       "    </tr>\n",
       "    <tr>\n",
       "      <th>245451</th>\n",
       "      <td>2016</td>\n",
       "      <td>1</td>\n",
       "      <td>1</td>\n",
       "      <td>9.0</td>\n",
       "      <td>10.5</td>\n",
       "      <td>30681.375</td>\n",
       "      <td>30681.4375</td>\n",
       "      <td>3.333</td>\n",
       "      <td>18</td>\n",
       "      <td>1</td>\n",
       "    </tr>\n",
       "    <tr>\n",
       "      <th>245452</th>\n",
       "      <td>2016</td>\n",
       "      <td>1</td>\n",
       "      <td>1</td>\n",
       "      <td>12.0</td>\n",
       "      <td>13.5</td>\n",
       "      <td>30681.500</td>\n",
       "      <td>30681.5625</td>\n",
       "      <td>1.667</td>\n",
       "      <td>6</td>\n",
       "      <td>1</td>\n",
       "    </tr>\n",
       "  </tbody>\n",
       "</table>\n",
       "</div>"
      ],
      "text/plain": [
       "        YYYY  MM  DD     h  hh._m       days      days_m     Kp  ap  D\n",
       "245448  2016   1   1   0.0    1.5  30681.000  30681.0625  6.000  80  1\n",
       "245449  2016   1   1   3.0    4.5  30681.125  30681.1875  5.333  56  1\n",
       "245450  2016   1   1   6.0    7.5  30681.250  30681.3125  5.000  48  1\n",
       "245451  2016   1   1   9.0   10.5  30681.375  30681.4375  3.333  18  1\n",
       "245452  2016   1   1  12.0   13.5  30681.500  30681.5625  1.667   6  1"
      ]
     },
     "execution_count": 5,
     "metadata": {},
     "output_type": "execute_result"
    }
   ],
   "source": [
    "ind = pd.read_csv('./kpg.txt', delimiter=' ')\n",
    "ind_filter = ind[(ind['YYYY']>=2016) & (ind['YYYY']<=2022)]\n",
    "ind_filter.rename({'hh.h':'h'},axis=1,inplace = True)\n",
    "ind_filter.head()"
   ]
  },
  {
   "cell_type": "markdown",
   "id": "a5e09786",
   "metadata": {},
   "source": [
    "## Checking nulls "
   ]
  },
  {
   "cell_type": "code",
   "execution_count": 6,
   "id": "9ecb0e48",
   "metadata": {},
   "outputs": [],
   "source": [
    "def print_null_proportion(df):\n",
    "    null_percentage = (df.isnull().sum() / len(df)) * 100\n",
    "\n",
    "    # Create a bar plot of null value percentages\n",
    "    plt.figure(figsize=(12, 6))  # Adjust the figure size as needed\n",
    "    ax = sns.barplot(x=null_percentage.index, y=null_percentage.values, palette=\"viridis\")\n",
    "    plt.xticks(rotation=90)  # Rotate x-axis labels for better readability\n",
    "    plt.xlabel(\"Columns\")\n",
    "    plt.ylabel(\"Percentage of Null Values\")\n",
    "    plt.title(\"Percentage of Null Values in the Dataset\")\n",
    "\n",
    "    # Set the y-axis scale from 0 to 100\n",
    "    plt.ylim(0, 100)\n",
    "\n",
    "    plt.tight_layout()\n",
    "\n",
    "    # Show the plot\n",
    "    plt.show()"
   ]
  },
  {
   "cell_type": "code",
   "execution_count": 7,
   "id": "6cbb5cb9",
   "metadata": {},
   "outputs": [
    {
     "data": {
      "image/png": "[encoded data removed]",
      "text/plain": [
       "<Figure size 1200x600 with 1 Axes>"
      ]
     },
     "metadata": {},
     "output_type": "display_data"
    }
   ],
   "source": [
    "print_null_proportion(df_final)"
   ]
  },
  {
   "cell_type": "code",
   "execution_count": 8,
   "id": "c8e76b23",
   "metadata": {},
   "outputs": [
    {
     "name": "stdout",
     "output_type": "stream",
     "text": [
      "df_2016 has a total of 30.86239777213762 % ( 8755045 ) nulls\n",
      "df_2017 has a total of 30.70994101978691 % ( 16141145 ) nulls\n",
      "df_2018 has a total of 31.242830280011916 % ( 16781149 ) nulls\n",
      "df_2019 has a total of 31.24171738451935 % ( 8007877 ) nulls\n",
      "df_2020 has a total of 28.850437656305825 % ( 12920380 ) nulls\n",
      "df_2021 has a total of 23.672530441400305 % ( 12442282 ) nulls\n",
      "df_2022 has a total of 20.29900494672755 % ( 10669157 ) nulls\n"
     ]
    }
   ],
   "source": [
    "for k in data_frames:\n",
    "    num_nulls = data_frames[k].isnull().sum().sum()\n",
    "    print(k,'has a total of',num_nulls/data_frames[k].shape[0],'% (',num_nulls,') nulls')"
   ]
  },
  {
   "cell_type": "markdown",
   "id": "1818afa0",
   "metadata": {},
   "source": [
    "## Merging dataframes"
   ]
  },
  {
   "cell_type": "code",
   "execution_count": 9,
   "id": "772a0d35",
   "metadata": {},
   "outputs": [],
   "source": [
    "# df_final['date'] = pd.to_datetime(df_final['date'])\n",
    "\n",
    "# # Calculate the time interval (90 minutes) in seconds\n",
    "# interval = pd.Timedelta(minutes=180).total_seconds()\n",
    "\n",
    "# # Create a custom grouping column based on time intervals\n",
    "# df_final['group'] = (df_final['date'].sub(df_final['date'].min()).dt.total_seconds() / interval).astype(int)\n",
    "\n",
    "# # Group the DataFrame by the custom 'group' column and calculate the mean for each group\n",
    "# df_grouped = df_final.groupby('group').mean()\n",
    "\n",
    "# # Reset the index to have the 'group' as a regular column again if needed\n",
    "# df_grouped.reset_index(inplace=True)\n",
    "\n",
    "# # Display the resulting DataFrame\n",
    "# df_grouped"
   ]
  },
  {
   "cell_type": "code",
   "execution_count": 10,
   "id": "1ba50be3",
   "metadata": {},
   "outputs": [],
   "source": [
    "def truncateHour(x):\n",
    "    if x< 3:\n",
    "        return 0\n",
    "    elif x< 6:\n",
    "        return 3\n",
    "    elif x < 9:\n",
    "        return 6\n",
    "    elif x< 12:\n",
    "        return 9\n",
    "    elif x< 15:\n",
    "        return 12\n",
    "    elif x< 18:\n",
    "        return 15\n",
    "    elif x< 21:\n",
    "        return 18\n",
    "    else:\n",
    "        return 21"
   ]
  },
  {
   "cell_type": "code",
   "execution_count": 11,
   "id": "566b3365",
   "metadata": {},
   "outputs": [],
   "source": [
    "df_final['YYYY'] = df_final['date'].dt.year\n",
    "df_final['MM'] = df_final['date'].dt.month\n",
    "df_final['DD'] = df_final['date'].dt.day\n",
    "df_final['h'] = df_final['date'].dt.hour\n",
    "df_final['h'] = df_final['h'].apply(truncateHour)"
   ]
  },
  {
   "cell_type": "code",
   "execution_count": 12,
   "id": "e6a385f3",
   "metadata": {},
   "outputs": [
    {
     "data": {
      "text/html": [
       "<div>\n",
       "<style scoped>\n",
       "    .dataframe tbody tr th:only-of-type {\n",
       "        vertical-align: middle;\n",
       "    }\n",
       "\n",
       "    .dataframe tbody tr th {\n",
       "        vertical-align: top;\n",
       "    }\n",
       "\n",
       "    .dataframe thead th {\n",
       "        text-align: right;\n",
       "    }\n",
       "</style>\n",
       "<table border=\"1\" class=\"dataframe\">\n",
       "  <thead>\n",
       "    <tr style=\"text-align: right;\">\n",
       "      <th></th>\n",
       "      <th></th>\n",
       "      <th></th>\n",
       "      <th></th>\n",
       "      <th>date</th>\n",
       "      <th>x</th>\n",
       "      <th>y</th>\n",
       "      <th>z</th>\n",
       "      <th>4</th>\n",
       "      <th>5</th>\n",
       "      <th>6</th>\n",
       "      <th>7</th>\n",
       "      <th>8</th>\n",
       "      <th>9</th>\n",
       "      <th>...</th>\n",
       "      <th>44</th>\n",
       "      <th>45</th>\n",
       "      <th>46</th>\n",
       "      <th>47</th>\n",
       "      <th>48</th>\n",
       "      <th>49</th>\n",
       "      <th>50</th>\n",
       "      <th>51</th>\n",
       "      <th>52</th>\n",
       "      <th>53</th>\n",
       "    </tr>\n",
       "    <tr>\n",
       "      <th>YYYY</th>\n",
       "      <th>MM</th>\n",
       "      <th>DD</th>\n",
       "      <th>h</th>\n",
       "      <th></th>\n",
       "      <th></th>\n",
       "      <th></th>\n",
       "      <th></th>\n",
       "      <th></th>\n",
       "      <th></th>\n",
       "      <th></th>\n",
       "      <th></th>\n",
       "      <th></th>\n",
       "      <th></th>\n",
       "      <th></th>\n",
       "      <th></th>\n",
       "      <th></th>\n",
       "      <th></th>\n",
       "      <th></th>\n",
       "      <th></th>\n",
       "      <th></th>\n",
       "      <th></th>\n",
       "      <th></th>\n",
       "      <th></th>\n",
       "      <th></th>\n",
       "    </tr>\n",
       "  </thead>\n",
       "  <tbody>\n",
       "    <tr>\n",
       "      <th rowspan=\"5\" valign=\"top\">2016</th>\n",
       "      <th rowspan=\"5\" valign=\"top\">1</th>\n",
       "      <th rowspan=\"5\" valign=\"top\">1</th>\n",
       "      <th>0</th>\n",
       "      <td>2016-01-01 01:29:30</td>\n",
       "      <td>4.433160</td>\n",
       "      <td>-1.247880</td>\n",
       "      <td>-13.165854</td>\n",
       "      <td>NaN</td>\n",
       "      <td>NaN</td>\n",
       "      <td>NaN</td>\n",
       "      <td>NaN</td>\n",
       "      <td>NaN</td>\n",
       "      <td>NaN</td>\n",
       "      <td>...</td>\n",
       "      <td>NaN</td>\n",
       "      <td>NaN</td>\n",
       "      <td>NaN</td>\n",
       "      <td>NaN</td>\n",
       "      <td>NaN</td>\n",
       "      <td>NaN</td>\n",
       "      <td>NaN</td>\n",
       "      <td>NaN</td>\n",
       "      <td>NaN</td>\n",
       "      <td>NaN</td>\n",
       "    </tr>\n",
       "    <tr>\n",
       "      <th>3</th>\n",
       "      <td>2016-01-01 04:29:30</td>\n",
       "      <td>3.448769</td>\n",
       "      <td>-3.864323</td>\n",
       "      <td>-8.984068</td>\n",
       "      <td>139.338250</td>\n",
       "      <td>108.341150</td>\n",
       "      <td>131.678031</td>\n",
       "      <td>127.960636</td>\n",
       "      <td>124.528562</td>\n",
       "      <td>108.572063</td>\n",
       "      <td>...</td>\n",
       "      <td>161.363000</td>\n",
       "      <td>134.080562</td>\n",
       "      <td>151.425344</td>\n",
       "      <td>140.448156</td>\n",
       "      <td>132.193750</td>\n",
       "      <td>151.046906</td>\n",
       "      <td>151.407406</td>\n",
       "      <td>134.467309</td>\n",
       "      <td>162.754562</td>\n",
       "      <td>142.775667</td>\n",
       "    </tr>\n",
       "    <tr>\n",
       "      <th>6</th>\n",
       "      <td>2016-01-01 07:29:30</td>\n",
       "      <td>4.407694</td>\n",
       "      <td>-5.729229</td>\n",
       "      <td>-6.420560</td>\n",
       "      <td>143.819967</td>\n",
       "      <td>103.094027</td>\n",
       "      <td>126.340200</td>\n",
       "      <td>129.495920</td>\n",
       "      <td>124.643217</td>\n",
       "      <td>96.828230</td>\n",
       "      <td>...</td>\n",
       "      <td>163.193200</td>\n",
       "      <td>131.601167</td>\n",
       "      <td>151.214300</td>\n",
       "      <td>144.231933</td>\n",
       "      <td>129.541733</td>\n",
       "      <td>147.492067</td>\n",
       "      <td>156.671133</td>\n",
       "      <td>137.356233</td>\n",
       "      <td>158.362867</td>\n",
       "      <td>144.435267</td>\n",
       "    </tr>\n",
       "    <tr>\n",
       "      <th>9</th>\n",
       "      <td>2016-01-01 10:29:30</td>\n",
       "      <td>3.758710</td>\n",
       "      <td>-6.973925</td>\n",
       "      <td>3.080465</td>\n",
       "      <td>NaN</td>\n",
       "      <td>NaN</td>\n",
       "      <td>NaN</td>\n",
       "      <td>NaN</td>\n",
       "      <td>NaN</td>\n",
       "      <td>NaN</td>\n",
       "      <td>...</td>\n",
       "      <td>NaN</td>\n",
       "      <td>NaN</td>\n",
       "      <td>NaN</td>\n",
       "      <td>NaN</td>\n",
       "      <td>NaN</td>\n",
       "      <td>NaN</td>\n",
       "      <td>NaN</td>\n",
       "      <td>NaN</td>\n",
       "      <td>NaN</td>\n",
       "      <td>NaN</td>\n",
       "    </tr>\n",
       "    <tr>\n",
       "      <th>12</th>\n",
       "      <td>2016-01-01 13:29:30</td>\n",
       "      <td>6.514989</td>\n",
       "      <td>-6.250111</td>\n",
       "      <td>-0.786576</td>\n",
       "      <td>142.064460</td>\n",
       "      <td>102.750320</td>\n",
       "      <td>127.700920</td>\n",
       "      <td>130.539498</td>\n",
       "      <td>124.235998</td>\n",
       "      <td>73.482044</td>\n",
       "      <td>...</td>\n",
       "      <td>162.297380</td>\n",
       "      <td>133.708920</td>\n",
       "      <td>152.504700</td>\n",
       "      <td>142.948180</td>\n",
       "      <td>129.320420</td>\n",
       "      <td>148.748020</td>\n",
       "      <td>156.235200</td>\n",
       "      <td>136.425440</td>\n",
       "      <td>159.369940</td>\n",
       "      <td>145.061380</td>\n",
       "    </tr>\n",
       "    <tr>\n",
       "      <th>...</th>\n",
       "      <th>...</th>\n",
       "      <th>...</th>\n",
       "      <th>...</th>\n",
       "      <td>...</td>\n",
       "      <td>...</td>\n",
       "      <td>...</td>\n",
       "      <td>...</td>\n",
       "      <td>...</td>\n",
       "      <td>...</td>\n",
       "      <td>...</td>\n",
       "      <td>...</td>\n",
       "      <td>...</td>\n",
       "      <td>...</td>\n",
       "      <td>...</td>\n",
       "      <td>...</td>\n",
       "      <td>...</td>\n",
       "      <td>...</td>\n",
       "      <td>...</td>\n",
       "      <td>...</td>\n",
       "      <td>...</td>\n",
       "      <td>...</td>\n",
       "      <td>...</td>\n",
       "      <td>...</td>\n",
       "      <td>...</td>\n",
       "    </tr>\n",
       "    <tr>\n",
       "      <th rowspan=\"5\" valign=\"top\">2022</th>\n",
       "      <th rowspan=\"5\" valign=\"top\">12</th>\n",
       "      <th rowspan=\"5\" valign=\"top\">31</th>\n",
       "      <th>9</th>\n",
       "      <td>2022-12-31 10:29:30</td>\n",
       "      <td>-4.575782</td>\n",
       "      <td>1.086207</td>\n",
       "      <td>2.755094</td>\n",
       "      <td>20.038541</td>\n",
       "      <td>0.253126</td>\n",
       "      <td>2.232621</td>\n",
       "      <td>10.446358</td>\n",
       "      <td>12.015030</td>\n",
       "      <td>1.288711</td>\n",
       "      <td>...</td>\n",
       "      <td>NaN</td>\n",
       "      <td>NaN</td>\n",
       "      <td>NaN</td>\n",
       "      <td>NaN</td>\n",
       "      <td>NaN</td>\n",
       "      <td>NaN</td>\n",
       "      <td>NaN</td>\n",
       "      <td>NaN</td>\n",
       "      <td>NaN</td>\n",
       "      <td>NaN</td>\n",
       "    </tr>\n",
       "    <tr>\n",
       "      <th>12</th>\n",
       "      <td>2022-12-31 13:29:30</td>\n",
       "      <td>-2.912565</td>\n",
       "      <td>0.545443</td>\n",
       "      <td>-1.746772</td>\n",
       "      <td>25.665688</td>\n",
       "      <td>0.231726</td>\n",
       "      <td>0.301693</td>\n",
       "      <td>7.798967</td>\n",
       "      <td>15.294495</td>\n",
       "      <td>0.234433</td>\n",
       "      <td>...</td>\n",
       "      <td>372.433667</td>\n",
       "      <td>295.602368</td>\n",
       "      <td>362.085000</td>\n",
       "      <td>NaN</td>\n",
       "      <td>NaN</td>\n",
       "      <td>NaN</td>\n",
       "      <td>NaN</td>\n",
       "      <td>NaN</td>\n",
       "      <td>NaN</td>\n",
       "      <td>NaN</td>\n",
       "    </tr>\n",
       "    <tr>\n",
       "      <th>15</th>\n",
       "      <td>2022-12-31 16:29:30</td>\n",
       "      <td>-3.569145</td>\n",
       "      <td>2.629413</td>\n",
       "      <td>0.167908</td>\n",
       "      <td>32.373597</td>\n",
       "      <td>0.231726</td>\n",
       "      <td>0.533728</td>\n",
       "      <td>11.987406</td>\n",
       "      <td>18.079204</td>\n",
       "      <td>0.313125</td>\n",
       "      <td>...</td>\n",
       "      <td>351.656905</td>\n",
       "      <td>288.231412</td>\n",
       "      <td>386.202500</td>\n",
       "      <td>NaN</td>\n",
       "      <td>NaN</td>\n",
       "      <td>NaN</td>\n",
       "      <td>NaN</td>\n",
       "      <td>NaN</td>\n",
       "      <td>NaN</td>\n",
       "      <td>NaN</td>\n",
       "    </tr>\n",
       "    <tr>\n",
       "      <th>18</th>\n",
       "      <td>2022-12-31 19:29:30</td>\n",
       "      <td>-4.063840</td>\n",
       "      <td>1.834405</td>\n",
       "      <td>-1.244176</td>\n",
       "      <td>24.981998</td>\n",
       "      <td>0.231726</td>\n",
       "      <td>0.869348</td>\n",
       "      <td>12.322342</td>\n",
       "      <td>12.377256</td>\n",
       "      <td>0.253563</td>\n",
       "      <td>...</td>\n",
       "      <td>316.262016</td>\n",
       "      <td>291.814545</td>\n",
       "      <td>388.993750</td>\n",
       "      <td>NaN</td>\n",
       "      <td>NaN</td>\n",
       "      <td>NaN</td>\n",
       "      <td>NaN</td>\n",
       "      <td>NaN</td>\n",
       "      <td>NaN</td>\n",
       "      <td>NaN</td>\n",
       "    </tr>\n",
       "    <tr>\n",
       "      <th>21</th>\n",
       "      <td>2022-12-31 22:29:30</td>\n",
       "      <td>-4.004869</td>\n",
       "      <td>1.863977</td>\n",
       "      <td>-0.416700</td>\n",
       "      <td>24.341184</td>\n",
       "      <td>0.231726</td>\n",
       "      <td>0.497367</td>\n",
       "      <td>3.097159</td>\n",
       "      <td>9.419372</td>\n",
       "      <td>0.248380</td>\n",
       "      <td>...</td>\n",
       "      <td>339.274714</td>\n",
       "      <td>277.562000</td>\n",
       "      <td>NaN</td>\n",
       "      <td>NaN</td>\n",
       "      <td>NaN</td>\n",
       "      <td>NaN</td>\n",
       "      <td>NaN</td>\n",
       "      <td>NaN</td>\n",
       "      <td>NaN</td>\n",
       "      <td>NaN</td>\n",
       "    </tr>\n",
       "  </tbody>\n",
       "</table>\n",
       "<p>17168 rows × 54 columns</p>\n",
       "</div>"
      ],
      "text/plain": [
       "                             date         x         y          z           4  \\\n",
       "YYYY MM DD h                                                                   \n",
       "2016 1  1  0  2016-01-01 01:29:30  4.433160 -1.247880 -13.165854         NaN   \n",
       "           3  2016-01-01 04:29:30  3.448769 -3.864323  -8.984068  139.338250   \n",
       "           6  2016-01-01 07:29:30  4.407694 -5.729229  -6.420560  143.819967   \n",
       "           9  2016-01-01 10:29:30  3.758710 -6.973925   3.080465         NaN   \n",
       "           12 2016-01-01 13:29:30  6.514989 -6.250111  -0.786576  142.064460   \n",
       "...                           ...       ...       ...        ...         ...   \n",
       "2022 12 31 9  2022-12-31 10:29:30 -4.575782  1.086207   2.755094   20.038541   \n",
       "           12 2022-12-31 13:29:30 -2.912565  0.545443  -1.746772   25.665688   \n",
       "           15 2022-12-31 16:29:30 -3.569145  2.629413   0.167908   32.373597   \n",
       "           18 2022-12-31 19:29:30 -4.063840  1.834405  -1.244176   24.981998   \n",
       "           21 2022-12-31 22:29:30 -4.004869  1.863977  -0.416700   24.341184   \n",
       "\n",
       "                        5           6           7           8           9  \\\n",
       "YYYY MM DD h                                                                \n",
       "2016 1  1  0          NaN         NaN         NaN         NaN         NaN   \n",
       "           3   108.341150  131.678031  127.960636  124.528562  108.572063   \n",
       "           6   103.094027  126.340200  129.495920  124.643217   96.828230   \n",
       "           9          NaN         NaN         NaN         NaN         NaN   \n",
       "           12  102.750320  127.700920  130.539498  124.235998   73.482044   \n",
       "...                   ...         ...         ...         ...         ...   \n",
       "2022 12 31 9     0.253126    2.232621   10.446358   12.015030    1.288711   \n",
       "           12    0.231726    0.301693    7.798967   15.294495    0.234433   \n",
       "           15    0.231726    0.533728   11.987406   18.079204    0.313125   \n",
       "           18    0.231726    0.869348   12.322342   12.377256    0.253563   \n",
       "           21    0.231726    0.497367    3.097159    9.419372    0.248380   \n",
       "\n",
       "               ...          44          45          46          47  \\\n",
       "YYYY MM DD h   ...                                                   \n",
       "2016 1  1  0   ...         NaN         NaN         NaN         NaN   \n",
       "           3   ...  161.363000  134.080562  151.425344  140.448156   \n",
       "           6   ...  163.193200  131.601167  151.214300  144.231933   \n",
       "           9   ...         NaN         NaN         NaN         NaN   \n",
       "           12  ...  162.297380  133.708920  152.504700  142.948180   \n",
       "...            ...         ...         ...         ...         ...   \n",
       "2022 12 31 9   ...         NaN         NaN         NaN         NaN   \n",
       "           12  ...  372.433667  295.602368  362.085000         NaN   \n",
       "           15  ...  351.656905  288.231412  386.202500         NaN   \n",
       "           18  ...  316.262016  291.814545  388.993750         NaN   \n",
       "           21  ...  339.274714  277.562000         NaN         NaN   \n",
       "\n",
       "                       48          49          50          51          52  \\\n",
       "YYYY MM DD h                                                                \n",
       "2016 1  1  0          NaN         NaN         NaN         NaN         NaN   \n",
       "           3   132.193750  151.046906  151.407406  134.467309  162.754562   \n",
       "           6   129.541733  147.492067  156.671133  137.356233  158.362867   \n",
       "           9          NaN         NaN         NaN         NaN         NaN   \n",
       "           12  129.320420  148.748020  156.235200  136.425440  159.369940   \n",
       "...                   ...         ...         ...         ...         ...   \n",
       "2022 12 31 9          NaN         NaN         NaN         NaN         NaN   \n",
       "           12         NaN         NaN         NaN         NaN         NaN   \n",
       "           15         NaN         NaN         NaN         NaN         NaN   \n",
       "           18         NaN         NaN         NaN         NaN         NaN   \n",
       "           21         NaN         NaN         NaN         NaN         NaN   \n",
       "\n",
       "                       53  \n",
       "YYYY MM DD h               \n",
       "2016 1  1  0          NaN  \n",
       "           3   142.775667  \n",
       "           6   144.435267  \n",
       "           9          NaN  \n",
       "           12  145.061380  \n",
       "...                   ...  \n",
       "2022 12 31 9          NaN  \n",
       "           12         NaN  \n",
       "           15         NaN  \n",
       "           18         NaN  \n",
       "           21         NaN  \n",
       "\n",
       "[17168 rows x 54 columns]"
      ]
     },
     "execution_count": 12,
     "metadata": {},
     "output_type": "execute_result"
    }
   ],
   "source": [
    "df_grouped = df_final.groupby(['YYYY','MM','DD','h']).mean()\n",
    "df_grouped"
   ]
  },
  {
   "cell_type": "code",
   "execution_count": 14,
   "id": "55c9d027",
   "metadata": {},
   "outputs": [
    {
     "data": {
      "text/html": [
       "<div>\n",
       "<style scoped>\n",
       "    .dataframe tbody tr th:only-of-type {\n",
       "        vertical-align: middle;\n",
       "    }\n",
       "\n",
       "    .dataframe tbody tr th {\n",
       "        vertical-align: top;\n",
       "    }\n",
       "\n",
       "    .dataframe thead th {\n",
       "        text-align: right;\n",
       "    }\n",
       "</style>\n",
       "<table border=\"1\" class=\"dataframe\">\n",
       "  <thead>\n",
       "    <tr style=\"text-align: right;\">\n",
       "      <th></th>\n",
       "      <th>YYYY</th>\n",
       "      <th>DD</th>\n",
       "      <th>MM</th>\n",
       "      <th>h</th>\n",
       "      <th>date</th>\n",
       "      <th>x</th>\n",
       "      <th>y</th>\n",
       "      <th>z</th>\n",
       "      <th>4</th>\n",
       "      <th>5</th>\n",
       "      <th>...</th>\n",
       "      <th>50</th>\n",
       "      <th>51</th>\n",
       "      <th>52</th>\n",
       "      <th>53</th>\n",
       "      <th>hh._m</th>\n",
       "      <th>days</th>\n",
       "      <th>days_m</th>\n",
       "      <th>Kp</th>\n",
       "      <th>ap</th>\n",
       "      <th>D</th>\n",
       "    </tr>\n",
       "  </thead>\n",
       "  <tbody>\n",
       "    <tr>\n",
       "      <th>0</th>\n",
       "      <td>2016</td>\n",
       "      <td>1</td>\n",
       "      <td>1</td>\n",
       "      <td>0</td>\n",
       "      <td>2016-01-01 01:29:30</td>\n",
       "      <td>4.433160</td>\n",
       "      <td>-1.247880</td>\n",
       "      <td>-13.165854</td>\n",
       "      <td>NaN</td>\n",
       "      <td>NaN</td>\n",
       "      <td>...</td>\n",
       "      <td>NaN</td>\n",
       "      <td>NaN</td>\n",
       "      <td>NaN</td>\n",
       "      <td>NaN</td>\n",
       "      <td>1.5</td>\n",
       "      <td>30681.000</td>\n",
       "      <td>30681.0625</td>\n",
       "      <td>6.000</td>\n",
       "      <td>80</td>\n",
       "      <td>1</td>\n",
       "    </tr>\n",
       "    <tr>\n",
       "      <th>1</th>\n",
       "      <td>2016</td>\n",
       "      <td>1</td>\n",
       "      <td>1</td>\n",
       "      <td>3</td>\n",
       "      <td>2016-01-01 04:29:30</td>\n",
       "      <td>3.448769</td>\n",
       "      <td>-3.864323</td>\n",
       "      <td>-8.984068</td>\n",
       "      <td>139.338250</td>\n",
       "      <td>108.341150</td>\n",
       "      <td>...</td>\n",
       "      <td>151.407406</td>\n",
       "      <td>134.467309</td>\n",
       "      <td>162.754562</td>\n",
       "      <td>142.775667</td>\n",
       "      <td>4.5</td>\n",
       "      <td>30681.125</td>\n",
       "      <td>30681.1875</td>\n",
       "      <td>5.333</td>\n",
       "      <td>56</td>\n",
       "      <td>1</td>\n",
       "    </tr>\n",
       "    <tr>\n",
       "      <th>2</th>\n",
       "      <td>2016</td>\n",
       "      <td>1</td>\n",
       "      <td>1</td>\n",
       "      <td>6</td>\n",
       "      <td>2016-01-01 07:29:30</td>\n",
       "      <td>4.407694</td>\n",
       "      <td>-5.729229</td>\n",
       "      <td>-6.420560</td>\n",
       "      <td>143.819967</td>\n",
       "      <td>103.094027</td>\n",
       "      <td>...</td>\n",
       "      <td>156.671133</td>\n",
       "      <td>137.356233</td>\n",
       "      <td>158.362867</td>\n",
       "      <td>144.435267</td>\n",
       "      <td>7.5</td>\n",
       "      <td>30681.250</td>\n",
       "      <td>30681.3125</td>\n",
       "      <td>5.000</td>\n",
       "      <td>48</td>\n",
       "      <td>1</td>\n",
       "    </tr>\n",
       "    <tr>\n",
       "      <th>3</th>\n",
       "      <td>2016</td>\n",
       "      <td>1</td>\n",
       "      <td>1</td>\n",
       "      <td>9</td>\n",
       "      <td>2016-01-01 10:29:30</td>\n",
       "      <td>3.758710</td>\n",
       "      <td>-6.973925</td>\n",
       "      <td>3.080465</td>\n",
       "      <td>NaN</td>\n",
       "      <td>NaN</td>\n",
       "      <td>...</td>\n",
       "      <td>NaN</td>\n",
       "      <td>NaN</td>\n",
       "      <td>NaN</td>\n",
       "      <td>NaN</td>\n",
       "      <td>10.5</td>\n",
       "      <td>30681.375</td>\n",
       "      <td>30681.4375</td>\n",
       "      <td>3.333</td>\n",
       "      <td>18</td>\n",
       "      <td>1</td>\n",
       "    </tr>\n",
       "    <tr>\n",
       "      <th>4</th>\n",
       "      <td>2016</td>\n",
       "      <td>1</td>\n",
       "      <td>1</td>\n",
       "      <td>12</td>\n",
       "      <td>2016-01-01 13:29:30</td>\n",
       "      <td>6.514989</td>\n",
       "      <td>-6.250111</td>\n",
       "      <td>-0.786576</td>\n",
       "      <td>142.064460</td>\n",
       "      <td>102.750320</td>\n",
       "      <td>...</td>\n",
       "      <td>156.235200</td>\n",
       "      <td>136.425440</td>\n",
       "      <td>159.369940</td>\n",
       "      <td>145.061380</td>\n",
       "      <td>13.5</td>\n",
       "      <td>30681.500</td>\n",
       "      <td>30681.5625</td>\n",
       "      <td>1.667</td>\n",
       "      <td>6</td>\n",
       "      <td>1</td>\n",
       "    </tr>\n",
       "  </tbody>\n",
       "</table>\n",
       "<p>5 rows × 64 columns</p>\n",
       "</div>"
      ],
      "text/plain": [
       "   YYYY  DD  MM   h                date         x         y          z  \\\n",
       "0  2016   1   1   0 2016-01-01 01:29:30  4.433160 -1.247880 -13.165854   \n",
       "1  2016   1   1   3 2016-01-01 04:29:30  3.448769 -3.864323  -8.984068   \n",
       "2  2016   1   1   6 2016-01-01 07:29:30  4.407694 -5.729229  -6.420560   \n",
       "3  2016   1   1   9 2016-01-01 10:29:30  3.758710 -6.973925   3.080465   \n",
       "4  2016   1   1  12 2016-01-01 13:29:30  6.514989 -6.250111  -0.786576   \n",
       "\n",
       "            4           5  ...          50          51          52  \\\n",
       "0         NaN         NaN  ...         NaN         NaN         NaN   \n",
       "1  139.338250  108.341150  ...  151.407406  134.467309  162.754562   \n",
       "2  143.819967  103.094027  ...  156.671133  137.356233  158.362867   \n",
       "3         NaN         NaN  ...         NaN         NaN         NaN   \n",
       "4  142.064460  102.750320  ...  156.235200  136.425440  159.369940   \n",
       "\n",
       "           53  hh._m       days      days_m     Kp  ap  D  \n",
       "0         NaN    1.5  30681.000  30681.0625  6.000  80  1  \n",
       "1  142.775667    4.5  30681.125  30681.1875  5.333  56  1  \n",
       "2  144.435267    7.5  30681.250  30681.3125  5.000  48  1  \n",
       "3         NaN   10.5  30681.375  30681.4375  3.333  18  1  \n",
       "4  145.061380   13.5  30681.500  30681.5625  1.667   6  1  \n",
       "\n",
       "[5 rows x 64 columns]"
      ]
     },
     "execution_count": 14,
     "metadata": {},
     "output_type": "execute_result"
    }
   ],
   "source": [
    "merged_df = pd.merge(df_grouped, ind_filter, on=['YYYY', 'DD', 'MM', 'h'], how='inner')\n",
    "merged_df.head()"
   ]
  },
  {
   "cell_type": "code",
   "execution_count": 15,
   "id": "7c512bb7",
   "metadata": {},
   "outputs": [
    {
     "data": {
      "image/png": "[encoded data removed]",
      "text/plain": [
       "<Figure size 1200x600 with 1 Axes>"
      ]
     },
     "metadata": {},
     "output_type": "display_data"
    }
   ],
   "source": [
    "print_null_proportion(merged_df)"
   ]
  },
  {
   "cell_type": "code",
   "execution_count": 16,
   "id": "59b4360b",
   "metadata": {},
   "outputs": [],
   "source": [
    "filtered_df = merged_df.drop(merged_df.columns[37:58],axis=1)"
   ]
  },
  {
   "cell_type": "code",
   "execution_count": 17,
   "id": "c4beecd4",
   "metadata": {},
   "outputs": [],
   "source": [
    "# from sklearn.impute import KNNImputer\n",
    "# inputer = KNNImputer(n_neighbors=4)"
   ]
  },
  {
   "cell_type": "code",
   "execution_count": 18,
   "id": "0e72d180",
   "metadata": {},
   "outputs": [],
   "source": [
    "# filtered_df.columns = filtered_df.columns.astype(str)\n",
    "# columns_with_missing = filtered_df.columns[filtered_df.isnull().any()]\n",
    "\n",
    "# df_missing = filtered_df[columns_with_missing]\n",
    "# df_non_missing = filtered_df.drop(columns=columns_with_missing)\n",
    "\n",
    "# # Initialize the KNNImputer (you can specify the number of neighbors 'n_neighbors')\n",
    "# imputer = KNNImputer(n_neighbors=4)\n",
    "\n",
    "# # Fit the imputer on non-missing data and transform the missing data\n",
    "# df_missing_imputed = pd.DataFrame(imputer.fit_transform(df_non_missing), columns=df_non_missing.columns)\n",
    "\n",
    "# # Combine the imputed data with the non-missing data\n",
    "# df_imputed = pd.concat([df_missing_imputed, df_missing], axis=1)"
   ]
  },
  {
   "cell_type": "code",
   "execution_count": 19,
   "id": "76e5cd9a",
   "metadata": {},
   "outputs": [],
   "source": [
    "filtered_df= filtered_df.drop(['hh._m','days','days_m','date','YYYY','DD','MM','h','D'],axis=1)"
   ]
  },
  {
   "cell_type": "code",
   "execution_count": 20,
   "id": "0c988206",
   "metadata": {},
   "outputs": [
    {
     "data": {
      "text/html": [
       "<div>\n",
       "<style scoped>\n",
       "    .dataframe tbody tr th:only-of-type {\n",
       "        vertical-align: middle;\n",
       "    }\n",
       "\n",
       "    .dataframe tbody tr th {\n",
       "        vertical-align: top;\n",
       "    }\n",
       "\n",
       "    .dataframe thead th {\n",
       "        text-align: right;\n",
       "    }\n",
       "</style>\n",
       "<table border=\"1\" class=\"dataframe\">\n",
       "  <thead>\n",
       "    <tr style=\"text-align: right;\">\n",
       "      <th></th>\n",
       "      <th>x</th>\n",
       "      <th>y</th>\n",
       "      <th>z</th>\n",
       "      <th>4</th>\n",
       "      <th>5</th>\n",
       "      <th>6</th>\n",
       "      <th>7</th>\n",
       "      <th>8</th>\n",
       "      <th>9</th>\n",
       "      <th>10</th>\n",
       "      <th>...</th>\n",
       "      <th>25</th>\n",
       "      <th>26</th>\n",
       "      <th>27</th>\n",
       "      <th>28</th>\n",
       "      <th>29</th>\n",
       "      <th>30</th>\n",
       "      <th>31</th>\n",
       "      <th>32</th>\n",
       "      <th>Kp</th>\n",
       "      <th>ap</th>\n",
       "    </tr>\n",
       "  </thead>\n",
       "  <tbody>\n",
       "    <tr>\n",
       "      <th>1</th>\n",
       "      <td>3.448769</td>\n",
       "      <td>-3.864323</td>\n",
       "      <td>-8.984068</td>\n",
       "      <td>139.338250</td>\n",
       "      <td>108.341150</td>\n",
       "      <td>131.678031</td>\n",
       "      <td>127.960636</td>\n",
       "      <td>124.528562</td>\n",
       "      <td>108.572063</td>\n",
       "      <td>108.378163</td>\n",
       "      <td>...</td>\n",
       "      <td>149.215594</td>\n",
       "      <td>148.254094</td>\n",
       "      <td>141.746187</td>\n",
       "      <td>153.068531</td>\n",
       "      <td>133.417875</td>\n",
       "      <td>156.115273</td>\n",
       "      <td>157.808188</td>\n",
       "      <td>151.744812</td>\n",
       "      <td>5.333</td>\n",
       "      <td>56</td>\n",
       "    </tr>\n",
       "    <tr>\n",
       "      <th>2</th>\n",
       "      <td>4.407694</td>\n",
       "      <td>-5.729229</td>\n",
       "      <td>-6.420560</td>\n",
       "      <td>143.819967</td>\n",
       "      <td>103.094027</td>\n",
       "      <td>126.340200</td>\n",
       "      <td>129.495920</td>\n",
       "      <td>124.643217</td>\n",
       "      <td>96.828230</td>\n",
       "      <td>90.773630</td>\n",
       "      <td>...</td>\n",
       "      <td>137.976867</td>\n",
       "      <td>141.698067</td>\n",
       "      <td>135.005667</td>\n",
       "      <td>147.147667</td>\n",
       "      <td>129.626667</td>\n",
       "      <td>155.001633</td>\n",
       "      <td>154.731300</td>\n",
       "      <td>146.782767</td>\n",
       "      <td>5.000</td>\n",
       "      <td>48</td>\n",
       "    </tr>\n",
       "    <tr>\n",
       "      <th>4</th>\n",
       "      <td>6.514989</td>\n",
       "      <td>-6.250111</td>\n",
       "      <td>-0.786576</td>\n",
       "      <td>142.064460</td>\n",
       "      <td>102.750320</td>\n",
       "      <td>127.700920</td>\n",
       "      <td>130.539498</td>\n",
       "      <td>124.235998</td>\n",
       "      <td>73.482044</td>\n",
       "      <td>79.054954</td>\n",
       "      <td>...</td>\n",
       "      <td>142.380333</td>\n",
       "      <td>139.239843</td>\n",
       "      <td>130.050451</td>\n",
       "      <td>148.626627</td>\n",
       "      <td>132.570392</td>\n",
       "      <td>151.837784</td>\n",
       "      <td>149.355490</td>\n",
       "      <td>147.432392</td>\n",
       "      <td>1.667</td>\n",
       "      <td>6</td>\n",
       "    </tr>\n",
       "    <tr>\n",
       "      <th>5</th>\n",
       "      <td>5.987184</td>\n",
       "      <td>-5.670084</td>\n",
       "      <td>0.123970</td>\n",
       "      <td>143.002722</td>\n",
       "      <td>103.196814</td>\n",
       "      <td>127.037270</td>\n",
       "      <td>130.115054</td>\n",
       "      <td>124.606150</td>\n",
       "      <td>92.997796</td>\n",
       "      <td>98.774156</td>\n",
       "      <td>...</td>\n",
       "      <td>138.887989</td>\n",
       "      <td>138.062594</td>\n",
       "      <td>131.802217</td>\n",
       "      <td>150.297656</td>\n",
       "      <td>132.425644</td>\n",
       "      <td>151.847561</td>\n",
       "      <td>151.694983</td>\n",
       "      <td>149.333400</td>\n",
       "      <td>1.000</td>\n",
       "      <td>4</td>\n",
       "    </tr>\n",
       "    <tr>\n",
       "      <th>6</th>\n",
       "      <td>4.177648</td>\n",
       "      <td>-1.696730</td>\n",
       "      <td>-0.348509</td>\n",
       "      <td>132.232489</td>\n",
       "      <td>109.701154</td>\n",
       "      <td>141.846061</td>\n",
       "      <td>131.416072</td>\n",
       "      <td>119.297978</td>\n",
       "      <td>114.855887</td>\n",
       "      <td>128.623580</td>\n",
       "      <td>...</td>\n",
       "      <td>173.067572</td>\n",
       "      <td>158.152000</td>\n",
       "      <td>141.754006</td>\n",
       "      <td>153.012372</td>\n",
       "      <td>139.532894</td>\n",
       "      <td>161.093950</td>\n",
       "      <td>160.100139</td>\n",
       "      <td>156.799294</td>\n",
       "      <td>2.000</td>\n",
       "      <td>7</td>\n",
       "    </tr>\n",
       "  </tbody>\n",
       "</table>\n",
       "<p>5 rows × 34 columns</p>\n",
       "</div>"
      ],
      "text/plain": [
       "          x         y         z           4           5           6  \\\n",
       "1  3.448769 -3.864323 -8.984068  139.338250  108.341150  131.678031   \n",
       "2  4.407694 -5.729229 -6.420560  143.819967  103.094027  126.340200   \n",
       "4  6.514989 -6.250111 -0.786576  142.064460  102.750320  127.700920   \n",
       "5  5.987184 -5.670084  0.123970  143.002722  103.196814  127.037270   \n",
       "6  4.177648 -1.696730 -0.348509  132.232489  109.701154  141.846061   \n",
       "\n",
       "            7           8           9          10  ...          25  \\\n",
       "1  127.960636  124.528562  108.572063  108.378163  ...  149.215594   \n",
       "2  129.495920  124.643217   96.828230   90.773630  ...  137.976867   \n",
       "4  130.539498  124.235998   73.482044   79.054954  ...  142.380333   \n",
       "5  130.115054  124.606150   92.997796   98.774156  ...  138.887989   \n",
       "6  131.416072  119.297978  114.855887  128.623580  ...  173.067572   \n",
       "\n",
       "           26          27          28          29          30          31  \\\n",
       "1  148.254094  141.746187  153.068531  133.417875  156.115273  157.808188   \n",
       "2  141.698067  135.005667  147.147667  129.626667  155.001633  154.731300   \n",
       "4  139.239843  130.050451  148.626627  132.570392  151.837784  149.355490   \n",
       "5  138.062594  131.802217  150.297656  132.425644  151.847561  151.694983   \n",
       "6  158.152000  141.754006  153.012372  139.532894  161.093950  160.100139   \n",
       "\n",
       "           32     Kp  ap  \n",
       "1  151.744812  5.333  56  \n",
       "2  146.782767  5.000  48  \n",
       "4  147.432392  1.667   6  \n",
       "5  149.333400  1.000   4  \n",
       "6  156.799294  2.000   7  \n",
       "\n",
       "[5 rows x 34 columns]"
      ]
     },
     "execution_count": 20,
     "metadata": {},
     "output_type": "execute_result"
    }
   ],
   "source": [
    "non_na = filtered_df.dropna()\n",
    "non_na.head()"
   ]
  },
  {
   "cell_type": "markdown",
   "id": "50064479",
   "metadata": {},
   "source": [
    "## Data studying "
   ]
  },
  {
   "cell_type": "code",
   "execution_count": 22,
   "id": "08de5fdb",
   "metadata": {},
   "outputs": [
    {
     "data": {
      "text/plain": [
       "(6, 34)"
      ]
     },
     "execution_count": 22,
     "metadata": {},
     "output_type": "execute_result"
    }
   ],
   "source": [
    "filtered_df[filtered_df['Kp']>7].shape"
   ]
  },
  {
   "cell_type": "code",
   "execution_count": 23,
   "id": "f0f70a44",
   "metadata": {},
   "outputs": [
    {
     "data": {
      "image/png": "[encoded data removed]",
      "text/plain": [
       "<Figure size 1000x600 with 1 Axes>"
      ]
     },
     "metadata": {},
     "output_type": "display_data"
    }
   ],
   "source": [
    "plt.figure(figsize=(10, 6))  # Set the figure size\n",
    "plt.plot(filtered_df['Kp'], linestyle='-', marker='o', markersize=4)  # Line plot with markers\n",
    "plt.title('Line Plot of kp Column')  # Set the title\n",
    "plt.xlabel('Data Points')  # Set the x-axis label\n",
    "plt.ylabel('kp Values')  # Set the y-axis label\n",
    "plt.grid(True)  # Display grid lines\n",
    "plt.show()  # Show the plot"
   ]
  },
  {
   "cell_type": "markdown",
   "id": "49b745e4",
   "metadata": {},
   "source": [
    "## Spliting data "
   ]
  },
  {
   "cell_type": "code",
   "execution_count": 24,
   "id": "89334606",
   "metadata": {},
   "outputs": [],
   "source": [
    "X = non_na.drop(['Kp','ap'],axis = 1)\n",
    "y = non_na['Kp']\n",
    "\n",
    "X_train,X_test,y_train, y_test = train_test_split(X,y,test_size=0.2)"
   ]
  },
  {
   "cell_type": "markdown",
   "id": "aa615fa6",
   "metadata": {},
   "source": [
    "##  Generating model"
   ]
  },
  {
   "cell_type": "code",
   "execution_count": 25,
   "id": "5ec723cb",
   "metadata": {},
   "outputs": [
    {
     "name": "stdout",
     "output_type": "stream",
     "text": [
      "Model: \"sequential\"\n",
      "_________________________________________________________________\n",
      " Layer (type)                Output Shape              Param #   \n",
      "=================================================================\n",
      " dense (Dense)               (None, 64)                2112      \n",
      "                                                                 \n",
      " dropout (Dropout)           (None, 64)                0         \n",
      "                                                                 \n",
      " dense_1 (Dense)             (None, 128)               8320      \n",
      "                                                                 \n",
      " dropout_1 (Dropout)         (None, 128)               0         \n",
      "                                                                 \n",
      " dense_2 (Dense)             (None, 64)                8256      \n",
      "                                                                 \n",
      " dense_3 (Dense)             (None, 32)                2080      \n",
      "                                                                 \n",
      " dense_4 (Dense)             (None, 1)                 33        \n",
      "                                                                 \n",
      "=================================================================\n",
      "Total params: 20801 (81.25 KB)\n",
      "Trainable params: 20801 (81.25 KB)\n",
      "Non-trainable params: 0 (0.00 Byte)\n",
      "_________________________________________________________________\n"
     ]
    }
   ],
   "source": [
    "input_shape = X_train.shape[1]\n",
    "\n",
    "model = keras.Sequential()\n",
    "model.add(layers.Input(shape=(input_shape,)))\n",
    "model.add(layers.Dense(64, activation='relu'))\n",
    "model.add(layers.Dropout(0.1))\n",
    "model.add(layers.Dense(128, activation='relu'))\n",
    "model.add(layers.Dropout(0.2))\n",
    "model.add(layers.Dense(64, activation='relu'))\n",
    "model.add(layers.Dense(32, activation='relu'))\n",
    "model.add(layers.Dense(1, activation='linear'))\n",
    "model.summary()"
   ]
  },
  {
   "cell_type": "code",
   "execution_count": 26,
   "id": "5fc57282",
   "metadata": {},
   "outputs": [],
   "source": [
    "model.compile(optimizer='adam', \n",
    "              loss='mean_squared_error',\n",
    "              metrics=['mean_absolute_error'])  # You can add other metrics as needed"
   ]
  },
  {
   "cell_type": "code",
   "execution_count": 27,
   "id": "a9cc38c5",
   "metadata": {},
   "outputs": [
    {
     "name": "stdout",
     "output_type": "stream",
     "text": [
      "Epoch 1/50\n",
      "76/76 [==============================] - 1s 4ms/step - loss: 280.9495 - mean_absolute_error: 11.1976 - val_loss: 12.5958 - val_mean_absolute_error: 2.1732\n",
      "Epoch 2/50\n",
      "76/76 [==============================] - 0s 2ms/step - loss: 43.6218 - mean_absolute_error: 4.8023 - val_loss: 10.5952 - val_mean_absolute_error: 2.5332\n",
      "Epoch 3/50\n",
      "76/76 [==============================] - 0s 1ms/step - loss: 24.1400 - mean_absolute_error: 3.6600 - val_loss: 5.2638 - val_mean_absolute_error: 1.6215\n",
      "Epoch 4/50\n",
      "76/76 [==============================] - 0s 2ms/step - loss: 16.4559 - mean_absolute_error: 3.0707 - val_loss: 2.9476 - val_mean_absolute_error: 1.2585\n",
      "Epoch 5/50\n",
      "76/76 [==============================] - 0s 2ms/step - loss: 9.7420 - mean_absolute_error: 2.3848 - val_loss: 2.4691 - val_mean_absolute_error: 1.1854\n",
      "Epoch 6/50\n",
      "76/76 [==============================] - 0s 2ms/step - loss: 7.6559 - mean_absolute_error: 2.0625 - val_loss: 2.3451 - val_mean_absolute_error: 1.1811\n",
      "Epoch 7/50\n",
      "76/76 [==============================] - 0s 2ms/step - loss: 7.0495 - mean_absolute_error: 1.9199 - val_loss: 2.2614 - val_mean_absolute_error: 1.1471\n",
      "Epoch 8/50\n",
      "76/76 [==============================] - 0s 3ms/step - loss: 5.4434 - mean_absolute_error: 1.7239 - val_loss: 2.7022 - val_mean_absolute_error: 1.2782\n",
      "Epoch 9/50\n",
      "76/76 [==============================] - 0s 5ms/step - loss: 4.6262 - mean_absolute_error: 1.6291 - val_loss: 2.3239 - val_mean_absolute_error: 1.1574\n",
      "Epoch 10/50\n",
      "76/76 [==============================] - 0s 2ms/step - loss: 4.4935 - mean_absolute_error: 1.5270 - val_loss: 2.1836 - val_mean_absolute_error: 1.1378\n",
      "Epoch 11/50\n",
      "76/76 [==============================] - 0s 2ms/step - loss: 4.1272 - mean_absolute_error: 1.4676 - val_loss: 2.3318 - val_mean_absolute_error: 1.1640\n",
      "Epoch 12/50\n",
      "76/76 [==============================] - 0s 2ms/step - loss: 3.2385 - mean_absolute_error: 1.3361 - val_loss: 2.1983 - val_mean_absolute_error: 1.1496\n",
      "Epoch 13/50\n",
      "76/76 [==============================] - 0s 2ms/step - loss: 3.1082 - mean_absolute_error: 1.3370 - val_loss: 1.6736 - val_mean_absolute_error: 0.9690\n",
      "Epoch 14/50\n",
      "76/76 [==============================] - 0s 2ms/step - loss: 2.7587 - mean_absolute_error: 1.2734 - val_loss: 1.9357 - val_mean_absolute_error: 1.0530\n",
      "Epoch 15/50\n",
      "76/76 [==============================] - 0s 2ms/step - loss: 2.4948 - mean_absolute_error: 1.2114 - val_loss: 1.9196 - val_mean_absolute_error: 1.0416\n",
      "Epoch 16/50\n",
      "76/76 [==============================] - 0s 3ms/step - loss: 2.5975 - mean_absolute_error: 1.2100 - val_loss: 1.7540 - val_mean_absolute_error: 1.0151\n",
      "Epoch 17/50\n",
      "76/76 [==============================] - 0s 3ms/step - loss: 2.3626 - mean_absolute_error: 1.1813 - val_loss: 1.5704 - val_mean_absolute_error: 0.9483\n",
      "Epoch 18/50\n",
      "76/76 [==============================] - 0s 2ms/step - loss: 2.1861 - mean_absolute_error: 1.1356 - val_loss: 1.4719 - val_mean_absolute_error: 0.9116\n",
      "Epoch 19/50\n",
      "76/76 [==============================] - 0s 2ms/step - loss: 2.3561 - mean_absolute_error: 1.1622 - val_loss: 1.3136 - val_mean_absolute_error: 0.9110\n",
      "Epoch 20/50\n",
      "76/76 [==============================] - 0s 2ms/step - loss: 2.0779 - mean_absolute_error: 1.1112 - val_loss: 1.7839 - val_mean_absolute_error: 1.0101\n",
      "Epoch 21/50\n",
      "76/76 [==============================] - 0s 2ms/step - loss: 2.0780 - mean_absolute_error: 1.0999 - val_loss: 1.5294 - val_mean_absolute_error: 0.9484\n",
      "Epoch 22/50\n",
      "76/76 [==============================] - 0s 2ms/step - loss: 1.9487 - mean_absolute_error: 1.0655 - val_loss: 1.4793 - val_mean_absolute_error: 0.9333\n",
      "Epoch 23/50\n",
      "76/76 [==============================] - 0s 2ms/step - loss: 1.9740 - mean_absolute_error: 1.0493 - val_loss: 1.6479 - val_mean_absolute_error: 0.9951\n",
      "Epoch 24/50\n",
      "76/76 [==============================] - 0s 2ms/step - loss: 1.8842 - mean_absolute_error: 1.0587 - val_loss: 1.4044 - val_mean_absolute_error: 0.9146\n",
      "Epoch 25/50\n",
      "76/76 [==============================] - 0s 2ms/step - loss: 1.8196 - mean_absolute_error: 1.0352 - val_loss: 1.3927 - val_mean_absolute_error: 0.9133\n",
      "Epoch 26/50\n",
      "76/76 [==============================] - 0s 2ms/step - loss: 1.6966 - mean_absolute_error: 1.0208 - val_loss: 1.4406 - val_mean_absolute_error: 0.9239\n",
      "Epoch 27/50\n",
      "76/76 [==============================] - 0s 2ms/step - loss: 1.7517 - mean_absolute_error: 1.0291 - val_loss: 1.4451 - val_mean_absolute_error: 0.9241\n",
      "Epoch 28/50\n",
      "76/76 [==============================] - 0s 2ms/step - loss: 1.7318 - mean_absolute_error: 1.0104 - val_loss: 1.3979 - val_mean_absolute_error: 0.9205\n",
      "Epoch 29/50\n",
      "76/76 [==============================] - 0s 2ms/step - loss: 1.5746 - mean_absolute_error: 0.9833 - val_loss: 1.4108 - val_mean_absolute_error: 0.9268\n",
      "Epoch 30/50\n",
      "76/76 [==============================] - 0s 2ms/step - loss: 1.6225 - mean_absolute_error: 0.9963 - val_loss: 1.2691 - val_mean_absolute_error: 0.8840\n",
      "Epoch 31/50\n",
      "76/76 [==============================] - 0s 3ms/step - loss: 1.6878 - mean_absolute_error: 0.9947 - val_loss: 1.2936 - val_mean_absolute_error: 0.8904\n",
      "Epoch 32/50\n",
      "76/76 [==============================] - 0s 5ms/step - loss: 1.5937 - mean_absolute_error: 0.9863 - val_loss: 1.6207 - val_mean_absolute_error: 0.9934\n",
      "Epoch 33/50\n",
      "76/76 [==============================] - 0s 2ms/step - loss: 1.5832 - mean_absolute_error: 0.9848 - val_loss: 1.4470 - val_mean_absolute_error: 0.9369\n",
      "Epoch 34/50\n",
      "76/76 [==============================] - 0s 2ms/step - loss: 1.5712 - mean_absolute_error: 0.9660 - val_loss: 1.5333 - val_mean_absolute_error: 0.9616\n",
      "Epoch 35/50\n",
      "76/76 [==============================] - 0s 3ms/step - loss: 1.5616 - mean_absolute_error: 0.9677 - val_loss: 1.2164 - val_mean_absolute_error: 0.8705\n",
      "Epoch 36/50\n",
      "76/76 [==============================] - 0s 6ms/step - loss: 1.5282 - mean_absolute_error: 0.9664 - val_loss: 1.5131 - val_mean_absolute_error: 0.9582\n",
      "Epoch 37/50\n",
      "76/76 [==============================] - 1s 7ms/step - loss: 1.4881 - mean_absolute_error: 0.9629 - val_loss: 1.2642 - val_mean_absolute_error: 0.8817\n",
      "Epoch 38/50\n",
      "76/76 [==============================] - 0s 6ms/step - loss: 1.4721 - mean_absolute_error: 0.9384 - val_loss: 1.2990 - val_mean_absolute_error: 0.8902\n",
      "Epoch 39/50\n",
      "76/76 [==============================] - 0s 3ms/step - loss: 1.4753 - mean_absolute_error: 0.9612 - val_loss: 1.3702 - val_mean_absolute_error: 0.9106\n",
      "Epoch 40/50\n",
      "76/76 [==============================] - 0s 2ms/step - loss: 1.4669 - mean_absolute_error: 0.9432 - val_loss: 1.3438 - val_mean_absolute_error: 0.9040\n",
      "Epoch 41/50\n",
      "76/76 [==============================] - 0s 3ms/step - loss: 1.5161 - mean_absolute_error: 0.9493 - val_loss: 1.2111 - val_mean_absolute_error: 0.8678\n",
      "Epoch 42/50\n",
      "76/76 [==============================] - 0s 6ms/step - loss: 1.4043 - mean_absolute_error: 0.9299 - val_loss: 1.5552 - val_mean_absolute_error: 0.9679\n",
      "Epoch 43/50\n",
      "76/76 [==============================] - 0s 3ms/step - loss: 1.4245 - mean_absolute_error: 0.9381 - val_loss: 1.4179 - val_mean_absolute_error: 0.9283\n",
      "Epoch 44/50\n",
      "76/76 [==============================] - 0s 6ms/step - loss: 1.3871 - mean_absolute_error: 0.9256 - val_loss: 1.3731 - val_mean_absolute_error: 0.9150\n",
      "Epoch 45/50\n",
      "76/76 [==============================] - 0s 3ms/step - loss: 1.4266 - mean_absolute_error: 0.9405 - val_loss: 1.6295 - val_mean_absolute_error: 0.9909\n",
      "Epoch 46/50\n",
      "76/76 [==============================] - 0s 2ms/step - loss: 1.3966 - mean_absolute_error: 0.9212 - val_loss: 1.4530 - val_mean_absolute_error: 0.9377\n",
      "Epoch 47/50\n",
      "76/76 [==============================] - 0s 2ms/step - loss: 1.3984 - mean_absolute_error: 0.9260 - val_loss: 1.2356 - val_mean_absolute_error: 0.8722\n",
      "Epoch 48/50\n",
      "76/76 [==============================] - 0s 2ms/step - loss: 1.3359 - mean_absolute_error: 0.9100 - val_loss: 1.2010 - val_mean_absolute_error: 0.8632\n",
      "Epoch 49/50\n",
      "76/76 [==============================] - 0s 3ms/step - loss: 1.3586 - mean_absolute_error: 0.9176 - val_loss: 1.2154 - val_mean_absolute_error: 0.8658\n",
      "Epoch 50/50\n",
      "76/76 [==============================] - 0s 2ms/step - loss: 1.3588 - mean_absolute_error: 0.9069 - val_loss: 1.2474 - val_mean_absolute_error: 0.8734\n"
     ]
    }
   ],
   "source": [
    "history = model.fit(X_train, y_train, epochs=50, batch_size=32, validation_split=0.3)"
   ]
  },
  {
   "cell_type": "code",
   "execution_count": 28,
   "id": "ce6549dd",
   "metadata": {},
   "outputs": [
    {
     "data": {
      "image/png": "[encoded data removed]",
      "text/plain": [
       "<Figure size 800x400 with 2 Axes>"
      ]
     },
     "metadata": {},
     "output_type": "display_data"
    }
   ],
   "source": [
    "fig, axs = plt.subplots(1, 2, figsize=(8, 4))  # 2 rows, 1 column\n",
    "\n",
    "# Plot the first subplot (Training Loss and Validation Loss)\n",
    "axs[0].plot(history.history['loss'], label='Training Loss')\n",
    "axs[0].plot(history.history['val_loss'], label='Validation Loss')\n",
    "axs[0].set_title('Model Loss')\n",
    "axs[0].set_xlabel('Epoch')\n",
    "axs[0].set_ylabel('Loss')\n",
    "axs[0].legend()\n",
    "axs[0].grid(True)\n",
    "\n",
    "# Plot the second subplot (Training MAE and Validation MAE)\n",
    "axs[1].plot(history.history['mean_absolute_error'], label='Training MAE')\n",
    "axs[1].plot(history.history['val_mean_absolute_error'], label='Validation MAE')\n",
    "axs[1].set_title('Mean Absolute Error (MAE)')\n",
    "axs[1].set_xlabel('Epoch')\n",
    "axs[1].set_ylabel('MAE')\n",
    "axs[1].legend()\n",
    "axs[1].grid(True)\n",
    "\n",
    "plt.tight_layout()\n",
    "plt.show()"
   ]
  },
  {
   "cell_type": "code",
   "execution_count": 31,
   "id": "9dfa849c",
   "metadata": {},
   "outputs": [
    {
     "name": "stdout",
     "output_type": "stream",
     "text": [
      "28/28 [==============================] - 0s 1ms/step\n",
      "Mean Absolute Error (MAE): 0.87\n",
      "Mean Squared Error (MSE): 1.26\n"
     ]
    }
   ],
   "source": [
    "y_pred = model.predict(X_test)\n",
    "\n",
    "# Calculate MAE\n",
    "mae = mean_absolute_error(y_test, y_pred)\n",
    "mse = mean_squared_error(y_test, y_pred)\n",
    "\n",
    "print(f'Mean Absolute Error (MAE): {mae:.2f}')\n",
    "print(f'Mean Squared Error (MSE): {mse:.2f}')"
   ]
  },
  {
   "cell_type": "code",
   "execution_count": 32,
   "id": "f18393a4",
   "metadata": {},
   "outputs": [],
   "source": [
    "aa = filtered_df.dropna()"
   ]
  },
  {
   "cell_type": "code",
   "execution_count": 33,
   "id": "8773a23a",
   "metadata": {},
   "outputs": [
    {
     "data": {
      "text/plain": [
       "(4341, 34)"
      ]
     },
     "execution_count": 33,
     "metadata": {},
     "output_type": "execute_result"
    }
   ],
   "source": [
    "aa.shape"
   ]
  },
  {
   "cell_type": "code",
   "execution_count": 34,
   "id": "c91047d3",
   "metadata": {},
   "outputs": [
    {
     "data": {
      "text/plain": [
       "(4341, 34)"
      ]
     },
     "execution_count": 34,
     "metadata": {},
     "output_type": "execute_result"
    }
   ],
   "source": [
    "non_na.shape"
   ]
  },
  {
   "cell_type": "markdown",
   "id": "ac2aee8d",
   "metadata": {},
   "source": [
    "## Generating recurrent NN "
   ]
  },
  {
   "cell_type": "code",
   "execution_count": 46,
   "id": "664af20b",
   "metadata": {},
   "outputs": [],
   "source": [
    "non_na = non_na.reset_index(drop=True)"
   ]
  },
  {
   "cell_type": "code",
   "execution_count": 86,
   "id": "5227d315",
   "metadata": {},
   "outputs": [],
   "source": [
    "def create_train_window(valores, group_size=20):\n",
    "    x_train = []\n",
    "    y_train = []\n",
    "    x_test = []\n",
    "    y_test = []\n",
    "    for i in range(0, len(valores)-group_size-1):\n",
    "        if(i < (len(valores)-group_size-1)*0.8):\n",
    "            x_train.append(valores[i:group_size+i])\n",
    "            y_train.append(valores[i+group_size][-2])\n",
    "        else:\n",
    "            x_test.append(valores[i:group_size+i])\n",
    "            y_test.append(valores[i+group_size][-2])\n",
    "    return np.array(x_train), np.array(y_train), np.array(x_test), np.array(y_test)"
   ]
  },
  {
   "cell_type": "code",
   "execution_count": 87,
   "id": "3a66f452",
   "metadata": {},
   "outputs": [
    {
     "data": {
      "text/plain": [
       "(40, 34)"
      ]
     },
     "execution_count": 87,
     "metadata": {},
     "output_type": "execute_result"
    }
   ],
   "source": [
    "x_train, y_train, x_test, y_test = create_train_window(np.array(non_na), 40)\n",
    "input_shape_w=np.shape(x_train[0])\n",
    "input_shape_w"
   ]
  },
  {
   "cell_type": "code",
   "execution_count": 88,
   "id": "8e48cec6",
   "metadata": {},
   "outputs": [
    {
     "name": "stdout",
     "output_type": "stream",
     "text": [
      "Model: \"sequential_4\"\n",
      "_________________________________________________________________\n",
      " Layer (type)                Output Shape              Param #   \n",
      "=================================================================\n",
      " lstm_4 (LSTM)               (None, 40, 128)           83456     \n",
      "                                                                 \n",
      " dropout_8 (Dropout)         (None, 40, 128)           0         \n",
      "                                                                 \n",
      " lstm_5 (LSTM)               (None, 128)               131584    \n",
      "                                                                 \n",
      " dense_13 (Dense)            (None, 32)                4128      \n",
      "                                                                 \n",
      " dropout_9 (Dropout)         (None, 32)                0         \n",
      "                                                                 \n",
      " dense_14 (Dense)            (None, 16)                528       \n",
      "                                                                 \n",
      " dropout_10 (Dropout)        (None, 16)                0         \n",
      "                                                                 \n",
      " dense_15 (Dense)            (None, 1)                 17        \n",
      "                                                                 \n",
      "=================================================================\n",
      "Total params: 219713 (858.25 KB)\n",
      "Trainable params: 219713 (858.25 KB)\n",
      "Non-trainable params: 0 (0.00 Byte)\n",
      "_________________________________________________________________\n"
     ]
    }
   ],
   "source": [
    "#Creación MODELO\n",
    "model = keras.Sequential()\n",
    "model.add(layers.LSTM(128, input_shape=input_shape_w, return_sequences=True))\n",
    "model.add(layers.Dropout(0.1))\n",
    "model.add(layers.LSTM(128, return_sequences=False, dropout=0, recurrent_dropout=0))\n",
    "model.add(layers.Dense(32, activation='relu'))\n",
    "model.add(layers.Dropout(0.1))\n",
    "model.add(layers.Dense(16, activation='relu'))\n",
    "model.add(layers.Dropout(0.1))\n",
    "model.add(layers.Dense(1, activation='linear'))\n",
    "model.compile(optimizer='adam', loss='mse', metrics=['accuracy'])\n",
    "model.summary()"
   ]
  },
  {
   "cell_type": "code",
   "execution_count": null,
   "id": "2159fd97",
   "metadata": {},
   "outputs": [
    {
     "name": "stdout",
     "output_type": "stream",
     "text": [
      "Epoch 1/20\n",
      "344/344 [==============================] - 9s 22ms/step - loss: 1.7221 - accuracy: 0.0898 - val_loss: 1.2984 - val_accuracy: 0.0669\n",
      "Epoch 2/20\n",
      " 16/344 [>.............................] - ETA: 6s - loss: 1.5601 - accuracy: 0.0469"
     ]
    }
   ],
   "source": [
    "model.fit(x_train, y_train, shuffle=True, batch_size=8, epochs=20, validation_split=0.2)"
   ]
  },
  {
   "cell_type": "code",
   "execution_count": null,
   "id": "72c61d1d",
   "metadata": {},
   "outputs": [],
   "source": [
    "y_prediction = model.predict(x_test)"
   ]
  },
  {
   "cell_type": "code",
   "execution_count": null,
   "id": "e69ece75",
   "metadata": {},
   "outputs": [],
   "source": [
    "mean_absolute_error(y_test,y_prediction)"
   ]
  },
  {
   "cell_type": "code",
   "execution_count": null,
   "id": "5aa99787",
   "metadata": {},
   "outputs": [],
   "source": [
    "mean_squared_error(y_test,y_prediction)"
   ]
  },
  {
   "cell_type": "code",
   "execution_count": null,
   "id": "7a332b8e",
   "metadata": {},
   "outputs": [],
   "source": [
    "plt.plot(y_test)\n",
    "plt.plot(y_prediction,c='r')"
   ]
  },
  {
   "cell_type": "code",
   "execution_count": null,
   "id": "a007f4b2",
   "metadata": {},
   "outputs": [],
   "source": []
  }
 ],
 "metadata": {
  "kernelspec": {
   "display_name": "Python 3 (ipykernel)",
   "language": "python",
   "name": "python3"
  },
  "language_info": {
   "codemirror_mode": {
    "name": "ipython",
    "version": 3
   },
   "file_extension": ".py",
   "mimetype": "text/x-python",
   "name": "python",
   "nbconvert_exporter": "python",
   "pygments_lexer": "ipython3",
   "version": "3.10.13"
  }
 },
 "nbformat": 4,
 "nbformat_minor": 5
}
