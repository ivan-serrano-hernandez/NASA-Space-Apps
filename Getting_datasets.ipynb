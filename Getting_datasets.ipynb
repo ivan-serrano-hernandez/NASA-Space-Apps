{
 "cells": [
  {
   "cell_type": "code",
   "execution_count": null,
   "id": "ecc0a1e4",
   "metadata": {},
   "outputs": [],
   "source": [
    "import pandas as pd\n",
    "import numpy as np\n",
    "import matplotlib.pyplot as plt\n",
    "import seaborn as sns\n",
    "import os"
   ]
  },
  {
   "cell_type": "code",
   "execution_count": null,
   "id": "d6e4d31e",
   "metadata": {},
   "outputs": [],
   "source": [
    "data_frames = {}\n",
    "for file in os.listdir('./data/'):\n",
    "     year = str(file).split('_')[-2]\n",
    "     path = os.path.join('data',file,file+'.csv')\n",
    "     df = pd.read_csv(path, delimiter = ',', parse_dates=[0], infer_datetime_format=True, na_values='0', header = None)\n",
    "     print(path)\n",
    "     data_frames['df_'+year] = df\n",
    "df16, df17,df18,df20,df21,df22,df23 = data_frames"
   ]
  }
 ],
 "metadata": {
  "kernelspec": {
   "display_name": "Python 3 (ipykernel)",
   "language": "python",
   "name": "python3"
  },
  "language_info": {
   "codemirror_mode": {
    "name": "ipython",
    "version": 3
   },
   "file_extension": ".py",
   "mimetype": "text/x-python",
   "name": "python",
   "nbconvert_exporter": "python",
   "pygments_lexer": "ipython3",
   "version": "3.10.13"
  }
 },
 "nbformat": 4,
 "nbformat_minor": 5
}
